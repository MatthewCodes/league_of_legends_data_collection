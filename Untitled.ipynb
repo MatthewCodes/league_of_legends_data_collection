{
 "cells": [
  {
   "cell_type": "code",
   "execution_count": 67,
   "metadata": {},
   "outputs": [],
   "source": [
    "class Solution(object):\n",
    "    def removeDuplicates(self, s, k):\n",
    "        \"\"\"\n",
    "        :type s: str\n",
    "        :type k: int\n",
    "        :rtype: str\n",
    "        \"\"\"\n",
    "        starting_pos = 0\n",
    "        ending_pos = len(s) - 1\n",
    "        removals = dict()\n",
    "        while starting_pos <= ending_pos:\n",
    "            if s[starting_pos] in removals.keys():\n",
    "                \n",
    "                removals[s[starting_pos]] += 1\n",
    "                print(removals[s[starting_pos]])\n",
    "                print(\"ST: \"+ str(starting_pos))\n",
    "                if removals[s[starting_pos]] == k and s[starting_pos] ==s[starting_pos-1]:\n",
    "                    \n",
    "                    s = s[0:starting_pos-k+1] + s[starting_pos+1:]\n",
    "                    print(s)\n",
    "                    removals = dict()\n",
    "                    starting_pos = 0\n",
    "                    ending_pos = len(s) - 1\n",
    "                    print(\"ending: \" + str(ending_pos))\n",
    "                    print(\"starting: \" + str(starting_pos))\n",
    "                else:\n",
    "                    starting_pos += 1\n",
    "            else:\n",
    "                removals = dict()\n",
    "                removals[s[starting_pos]] = 1\n",
    "                starting_pos += 1\n",
    "        return s"
   ]
  },
  {
   "cell_type": "code",
   "execution_count": 68,
   "metadata": {},
   "outputs": [
    {
     "name": "stdout",
     "output_type": "stream",
     "text": [
      "2\n",
      "ST: 5\n",
      "3\n",
      "ST: 6\n",
      "4\n",
      "ST: 7\n",
      "ybth\n",
      "ending: 3\n",
      "starting: 0\n"
     ]
    },
    {
     "data": {
      "text/plain": [
       "'ybth'"
      ]
     },
     "execution_count": 68,
     "metadata": {},
     "output_type": "execute_result"
    }
   ],
   "source": [
    "S = Solution()\n",
    "S.removeDuplicates(s = \"ybthyyyy\", k = 4)"
   ]
  },
  {
   "cell_type": "code",
   "execution_count": null,
   "metadata": {},
   "outputs": [],
   "source": []
  }
 ],
 "metadata": {
  "kernelspec": {
   "display_name": "Python 3",
   "language": "python",
   "name": "python3"
  },
  "language_info": {
   "codemirror_mode": {
    "name": "ipython",
    "version": 3
   },
   "file_extension": ".py",
   "mimetype": "text/x-python",
   "name": "python",
   "nbconvert_exporter": "python",
   "pygments_lexer": "ipython3",
   "version": "3.7.3"
  }
 },
 "nbformat": 4,
 "nbformat_minor": 4
}
